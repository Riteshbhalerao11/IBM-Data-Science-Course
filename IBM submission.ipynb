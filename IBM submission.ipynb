{
 "cells": [
  {
   "cell_type": "markdown",
   "id": "96d5cc38",
   "metadata": {},
   "source": [
    "# Getting started with Jupyter Notebooks"
   ]
  },
  {
   "cell_type": "markdown",
   "id": "940c8cf2",
   "metadata": {},
   "source": [
    "Jupyter Notebook is an open-source web-based application used by data scientists, researchers, and educators for data exploration, visualization, and analysis. Its interface allows users to write and execute code, see the output, and make notes in a single document."
   ]
  },
  {
   "cell_type": "markdown",
   "id": "4fd5acd8",
   "metadata": {},
   "source": [
    "### Data Science Languages:\n",
    "- Python\n",
    "- R\n",
    "- SQL\n",
    "- Julia\n"
   ]
  },
  {
   "cell_type": "markdown",
   "id": "af956fbd",
   "metadata": {},
   "source": [
    "### Data Science Libraries:\n",
    "- NumPy\n",
    "- Pandas\n",
    "- Matplotlib\n",
    "- Scikit-learn\n",
    "- TensorFlow\n",
    "- Keras\n",
    "- PyTorch\n",
    "- Seaborn\n"
   ]
  },
  {
   "cell_type": "markdown",
   "id": "d551f3cb",
   "metadata": {},
   "source": [
    "### Data Science Tools Table:\n",
    "\n",
    "| Tool | Description | \n",
    "| --- | --- | \n",
    "| Jupyter Notebook | An open-source web-based application for data exploration, visualization, and analysis |\n",
    "| Tableau | A data visualization and business intelligence tool |\n",
    "| Apache Hadoop | A distributed data processing framework for big data |\n",
    "| Apache Spark | An open-source data processing framework for big data |\n",
    "| SAS | A proprietary data analytics and business intelligence tool |\n",
    "| MATLAB | A proprietary programming language and development environment for numerical computing |\n"
   ]
  },
  {
   "cell_type": "markdown",
   "id": "63c9bf54",
   "metadata": {},
   "source": [
    "### Arithmetic Expressions:\n",
    "In mathematics, arithmetic expressions are used to perform various operations such as addition, subtraction, multiplication, and division on numbers. For example, the expression \"5 + 7\" would evaluate to \"12\". Similarly, \"10 * 2\" would evaluate to \"20\". In data science, arithmetic expressions are used extensively in numerical computations and data analysis. With programming languages like Python and R, you can perform complex mathematical operations using simple arithmetic expressions.\n",
    "\n"
   ]
  },
  {
   "cell_type": "code",
   "execution_count": 1,
   "id": "9abd0e03",
   "metadata": {},
   "outputs": [
    {
     "name": "stdout",
     "output_type": "stream",
     "text": [
      "70\n"
     ]
    }
   ],
   "source": [
    "# Multiplication and addition example\n",
    "x = 5\n",
    "y = 10\n",
    "z = x * y + 20\n",
    "print(z)\n"
   ]
  },
  {
   "cell_type": "code",
   "execution_count": 2,
   "id": "7a4ace14",
   "metadata": {},
   "outputs": [
    {
     "name": "stdout",
     "output_type": "stream",
     "text": [
      "120 minutes is equal to 2.0 hours\n"
     ]
    }
   ],
   "source": [
    "# Conversion of minutes to hours\n",
    "minutes = 120\n",
    "hours = minutes / 60\n",
    "print(\"120 minutes is equal to\", hours, \"hours\")\n"
   ]
  },
  {
   "cell_type": "markdown",
   "id": "a0ad07eb",
   "metadata": {},
   "source": [
    "### Objectives:\n",
    "- Learn the basics of Jupyter Notebook\n",
    "- Understand data science languages and libraries\n",
    "- Explore data science tools and their applications\n",
    "- Perform arithmetic operations and conversions using code\n"
   ]
  },
  {
   "cell_type": "markdown",
   "id": "5c5e19ed",
   "metadata": {},
   "source": [
    "Author: [Ritesh Bhalerao]\n"
   ]
  },
  {
   "cell_type": "code",
   "execution_count": null,
   "id": "d24ec3b4",
   "metadata": {},
   "outputs": [],
   "source": []
  }
 ],
 "metadata": {
  "kernelspec": {
   "display_name": "Python 3 (ipykernel)",
   "language": "python",
   "name": "python3"
  },
  "language_info": {
   "codemirror_mode": {
    "name": "ipython",
    "version": 3
   },
   "file_extension": ".py",
   "mimetype": "text/x-python",
   "name": "python",
   "nbconvert_exporter": "python",
   "pygments_lexer": "ipython3",
   "version": "3.9.13"
  }
 },
 "nbformat": 4,
 "nbformat_minor": 5
}
